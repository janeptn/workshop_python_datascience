{
  "nbformat": 4,
  "nbformat_minor": 0,
  "metadata": {
    "colab": {
      "provenance": []
    },
    "kernelspec": {
      "name": "python3",
      "display_name": "Python 3"
    },
    "language_info": {
      "name": "python"
    }
  },
  "cells": [
    {
      "cell_type": "markdown",
      "source": [
        "### Conhecendo as bibliotecas para Data Science NumPy e Pandas"
      ],
      "metadata": {
        "id": "d8IgC00k5r7X"
      }
    },
    {
      "cell_type": "markdown",
      "source": [
        "**NumPy: Explorando Vetores, Matrizes e Tensores**\n",
        "\n",
        "O NumPy é uma biblioteca fundamental para computação científica em Python. Ela oferece ferramentas poderosas para manipular dados numéricos em diferentes dimensões, como vetores, matrizes e tensores."
      ],
      "metadata": {
        "id": "OGF3ve6o6JIT"
      }
    },
    {
      "cell_type": "code",
      "source": [
        "# Instalando a biblioteca\n",
        "\n",
        "!pip install numpy"
      ],
      "metadata": {
        "id": "Dlz_rqeI8O7r"
      },
      "execution_count": null,
      "outputs": []
    },
    {
      "cell_type": "code",
      "source": [
        "# Importando a biblioteca\n",
        "\n",
        "import numpy as np"
      ],
      "metadata": {
        "id": "IzEEt96I8FkK"
      },
      "execution_count": 1,
      "outputs": []
    },
    {
      "cell_type": "code",
      "source": [
        "# Criando Vetores\n",
        "\n",
        "# Criando um vetor com 5 números\n",
        "vetor = np.array([1, 2, 3, 4, 5])\n",
        "\n",
        "# Criando um vetor com valores espaçados\n",
        "vetor_espacado = np.arange(1, 11, 2)\n",
        "\n",
        "# Imprimindo o vetor\n",
        "print(vetor)\n",
        "print(vetor_espacado)\n"
      ],
      "metadata": {
        "id": "SnuGVab96Mb2"
      },
      "execution_count": null,
      "outputs": []
    },
    {
      "cell_type": "code",
      "source": [
        "# Criando Matrizes\n",
        "\n",
        "# Criando uma matriz 2x3\n",
        "matriz = np.array([[1, 2, 3], [4, 5, 6]])\n",
        "\n",
        "# Imprimindo a matriz\n",
        "print(matriz)\n"
      ],
      "metadata": {
        "id": "0UkVv4Uf6WBH"
      },
      "execution_count": null,
      "outputs": []
    },
    {
      "cell_type": "code",
      "source": [
        "# Criando Tensores\n",
        "\n",
        "# Criando um tensor 3x3x3\n",
        "tensor = np.array([[[1, 2, 3], [4, 5, 6]], [[7, 8, 9], [10, 11, 12]]])\n",
        "\n",
        "# Imprimindo o tensor\n",
        "print(tensor)\n"
      ],
      "metadata": {
        "id": "_6nkkGOL6h_n"
      },
      "execution_count": null,
      "outputs": []
    },
    {
      "cell_type": "code",
      "source": [
        "# Realizando Cálculos Básicos\n",
        "\n",
        "A = np.array([[1,2],[3,4]]) #cria uma matriz de 2x2 preenchida com número 1\n",
        "\n",
        "print(A)\n",
        "print(B)\n",
        "\n",
        "# Soma\n",
        "C = A + B\n",
        "print(C)\n",
        "\n",
        "# Soma com número (escalar)\n",
        "C = A + 2\n",
        "print(C)\n",
        "\n",
        "# Subtração\n",
        "C = B - A\n",
        "print(C)\n",
        "\n",
        "# Subtração com número (escalar)\n",
        "C = A - 1\n",
        "print(C)\n",
        "\n",
        "# Multiplicação da matrizes (executa a multiplicação por elementos)\n",
        "C = A * B\n",
        "print(C)\n",
        "\n",
        "#Divisão (executa a divisão por escalar)\n",
        "C = A / 2\n",
        "print(C)\n"
      ],
      "metadata": {
        "id": "fczKJ0oX6rU6"
      },
      "execution_count": null,
      "outputs": []
    },
    {
      "cell_type": "code",
      "source": [
        "# Acessando elementos de vetor, matriz e tensor\n",
        "\n",
        "vetor = np.array([1, 8, 7, 10])\n",
        "matriz = np.array([[1, 2, 3],[4, 5, 6], [7, 8, 9]])\n",
        "tensor = np.array([[[1, 2, 3], [4, 5, 6]], [[7, 8, 9], [10, 11, 12]]])\n",
        "\n",
        "\n",
        "# Acessando o segundo elemento do vetor\n",
        "segundo_elemento = vetor[1]\n",
        "\n",
        "# Acessando o elemento na linha 1, coluna 2 da matriz\n",
        "elemento_matriz = matriz[1, 2]\n",
        "\n",
        "# Acessando o elemento na posição (1, 1, 1) do tensor\n",
        "elemento_tensor = tensor[1, 1, 1]\n",
        "\n",
        "# Imprimindo os elementos\n",
        "print(segundo_elemento)\n",
        "print(elemento_matriz)\n",
        "print(elemento_tensor)\n"
      ],
      "metadata": {
        "id": "_zv7Bx467XpQ"
      },
      "execution_count": null,
      "outputs": []
    },
    {
      "cell_type": "markdown",
      "source": [
        "-------"
      ],
      "metadata": {
        "id": "d3SwNlic7S_y"
      }
    },
    {
      "cell_type": "markdown",
      "source": [
        "**Pandas: Explorando Séries, DataFrames e Visualização de Dados**\n",
        "\n",
        "O Pandas é uma biblioteca Python poderosa para análise de dados. Ela oferece ferramentas para estruturar, manipular e visualizar dados de maneira eficiente.\n",
        "\n",
        "https://pandas.pydata.org/"
      ],
      "metadata": {
        "id": "ZrP91i4D7UPU"
      }
    },
    {
      "cell_type": "code",
      "source": [
        "# Instalando a biblioteca Pandas\n",
        "\n",
        "!pip install pandas"
      ],
      "metadata": {
        "id": "ljPaF58g9thH"
      },
      "execution_count": null,
      "outputs": []
    },
    {
      "cell_type": "code",
      "source": [
        "# Importando a biblioteca pandas\n",
        "\n",
        "import pandas as pd"
      ],
      "metadata": {
        "id": "x755VX699x7a"
      },
      "execution_count": null,
      "outputs": []
    },
    {
      "cell_type": "code",
      "source": [
        "# Criando Séries\n",
        "\n",
        "# Criando uma série com valores numéricos\n",
        "serie_numeros = pd.Series([1, 2, 3, 4, 5])\n",
        "\n",
        "# Criando uma série com strings\n",
        "serie_strings = pd.Series([\"a\", \"b\", \"c\", \"d\", \"e\"])\n",
        "\n",
        "# Imprimindo a série\n",
        "print(serie_numeros)\n"
      ],
      "metadata": {
        "id": "ZYwWPBa-8-yu"
      },
      "execution_count": null,
      "outputs": []
    },
    {
      "cell_type": "code",
      "source": [
        "# Criando DataFrames\n",
        "\n",
        "# Criando um DataFrame com dados de alunos\n",
        "alunos = {\n",
        "    \"nome\": [\"Ana\", \"João\", \"Maria\", \"Ricardo\"],\n",
        "    \"idade\": [20, 21, 22, 28],\n",
        "    \"nota\": [8.5, 9.0, 9.5, 9.0]\n",
        "}\n",
        "\n",
        "df_alunos = pd.DataFrame(alunos)\n",
        "\n",
        "# Imprimindo o DataFrame\n",
        "print(df_alunos)\n"
      ],
      "metadata": {
        "id": "OBCKktp_9Dsg"
      },
      "execution_count": null,
      "outputs": []
    },
    {
      "cell_type": "code",
      "source": [
        "# Informações sobre o DataFram\n",
        "\n",
        "df_alunos.info()"
      ],
      "metadata": {
        "id": "VFHVPaFJ_hCI"
      },
      "execution_count": null,
      "outputs": []
    },
    {
      "cell_type": "code",
      "source": [
        "# Analisando os dados\n",
        "\n",
        "df_alunos.describe()"
      ],
      "metadata": {
        "id": "mNQhTbLX_nZ4"
      },
      "execution_count": null,
      "outputs": []
    },
    {
      "cell_type": "code",
      "source": [
        "# Gravar DataFrame em Arquivo CSV\n",
        "\n",
        "df_alunos.to_csv(\"alunos_saida.csv\", index=False)\n"
      ],
      "metadata": {
        "id": "2yGNuMHk-syS"
      },
      "execution_count": null,
      "outputs": []
    },
    {
      "cell_type": "code",
      "source": [
        "# Leitura de Arquivos CSV\n",
        "\n",
        "df_csv = pd.read_csv(\"dados.csv\")\n",
        "\n",
        "# Imprimindo o DataFrame\n",
        "print(df_csv)\n"
      ],
      "metadata": {
        "id": "csEfS_X39NMO"
      },
      "execution_count": null,
      "outputs": []
    }
  ]
}