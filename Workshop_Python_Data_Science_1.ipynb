{
  "nbformat": 4,
  "nbformat_minor": 0,
  "metadata": {
    "colab": {
      "provenance": []
    },
    "kernelspec": {
      "name": "python3",
      "display_name": "Python 3"
    },
    "language_info": {
      "name": "python"
    }
  },
  "cells": [
    {
      "cell_type": "markdown",
      "source": [
        "### Conhecendo a linguagem Python\n",
        "\n"
      ],
      "metadata": {
        "id": "G11Utonr0J-E"
      }
    },
    {
      "cell_type": "code",
      "execution_count": null,
      "metadata": {
        "id": "_xvjRMpm0Cvm"
      },
      "outputs": [],
      "source": [
        "# Imprimindo Mensagens na Tela\n",
        "\n",
        "print(\"Olá, mundo!\")"
      ]
    },
    {
      "cell_type": "code",
      "source": [
        "# Variáveis e Operações Matemáticas\n",
        "\n",
        "numero = 10\n",
        "soma = numero + 5\n",
        "\n",
        "print(\"O valor da soma é:\", soma)"
      ],
      "metadata": {
        "id": "GRguCdHy0XoV"
      },
      "execution_count": null,
      "outputs": []
    },
    {
      "cell_type": "code",
      "source": [
        "# Condicionais\n",
        "\n",
        "numero = 15\n",
        "\n",
        "if numero > 10:\n",
        "    print(\"O número é maior que 10\")\n",
        "else:\n",
        "    print(\"O número é menor ou igual a 10\")\n"
      ],
      "metadata": {
        "id": "3lyBuyYO0kvm"
      },
      "execution_count": null,
      "outputs": []
    },
    {
      "cell_type": "code",
      "source": [
        "# Repetição\n",
        "\n",
        "for i in range(5):\n",
        "    print(i)"
      ],
      "metadata": {
        "id": "lVG1o6Qp0rSN"
      },
      "execution_count": null,
      "outputs": []
    },
    {
      "cell_type": "code",
      "source": [
        "# Laço de repetição\n",
        "\n",
        "numero = int(input(\"Digite um número: \"))\n",
        "\n",
        "multiplicador = 1\n",
        "\n",
        "while multiplicador <= 10:\n",
        "    resultado = numero * multiplicador\n",
        "    print(f\"{numero} x {multiplicador} = {resultado}\")\n",
        "    multiplicador += 1"
      ],
      "metadata": {
        "id": "R_AzDArc03uh"
      },
      "execution_count": null,
      "outputs": []
    },
    {
      "cell_type": "markdown",
      "source": [
        "### Estruturas de Dados Python"
      ],
      "metadata": {
        "id": "mUOYR1Cs1xmc"
      }
    },
    {
      "cell_type": "markdown",
      "source": [
        "**Listas**\n",
        "\n",
        "As listas são uma das estruturas de dados mais básicas em Python. São coleções ordenadas de elementos que podem ser de qualquer tipo, como números, strings, objetos e até outras listas."
      ],
      "metadata": {
        "id": "_d333KTj13vz"
      }
    },
    {
      "cell_type": "code",
      "source": [
        "# Criando Listas\n",
        "\n",
        "lista_nomes = [\"Ana\", \"João\", \"Maria\"]\n",
        "lista_numeros = [1, 2, 3, 4, 5]\n",
        "lista_mista = [\"banana\", 10, True]\n",
        "\n",
        "print(lista_nomes)\n",
        "print(type(lista_nomes))"
      ],
      "metadata": {
        "id": "yGg6vq_r11B8"
      },
      "execution_count": null,
      "outputs": []
    },
    {
      "cell_type": "code",
      "source": [
        "# Acessando Elementos\n",
        "\n",
        "nome = lista_nomes[0]   # Acessa o primeiro elemento\n",
        "numero = lista_numeros[2]   # Acessa o terceiro elemento\n",
        "elemento = lista_mista[-1]  # Acessa o último elemento\n",
        "\n",
        "print(nome)\n",
        "print(numero)\n",
        "print(elemento)"
      ],
      "metadata": {
        "colab": {
          "base_uri": "https://localhost:8080/"
        },
        "id": "5LrZ6C4c2NY7",
        "outputId": "96654620-7003-4243-ff44-cf7b15e3ff69"
      },
      "execution_count": null,
      "outputs": [
        {
          "output_type": "stream",
          "name": "stdout",
          "text": [
            "Ana\n",
            "3\n",
            "True\n"
          ]
        }
      ]
    },
    {
      "cell_type": "code",
      "source": [
        "# Modificando Listas\n",
        "\n",
        "lista_nomes.append(\"Pedro\") # Adiciona um elemento ao final\n",
        "lista_numeros.insert(1, 2.5) # Insere um elemento em uma posição específica\n",
        "lista_mista.remove(\"banana\") # Remove um elemento da lista\n",
        "\n",
        "print(lista_nomes)\n",
        "print(lista_numeros)\n",
        "print(lista_mista)"
      ],
      "metadata": {
        "id": "FXhYUlnR2XqK"
      },
      "execution_count": null,
      "outputs": []
    },
    {
      "cell_type": "markdown",
      "source": [
        "**Dicionários**\n",
        "\n",
        "Os dicionários são estruturas de dados que armazenam pares de chave-valor. As chaves são únicas e identificam cada valor associado. Os valores podem ser de qualquer tipo."
      ],
      "metadata": {
        "id": "uMoIMjcd22Cl"
      }
    },
    {
      "cell_type": "code",
      "source": [
        "# Criando Dicionários\n",
        "\n",
        "aluno = {\"nome\": \"Ana\", \"idade\": 20, \"curso\": \"Ciência da Computação\"}\n",
        "dados_sensor = {\"temperatura\": 25.5, \"humidade\": 60, \"pressão\": 1010}"
      ],
      "metadata": {
        "id": "itx0U6aM24zE"
      },
      "execution_count": null,
      "outputs": []
    },
    {
      "cell_type": "code",
      "source": [
        "# Acessando Valores\n",
        "\n",
        "nome = aluno[\"nome\"] # Acessa o valor da chave \"nome\"\n",
        "temperatura = dados_sensor.get(\"temperatura\") # Acessa o valor da chave \"temperatura\"\n",
        "\n",
        "print(nome)\n",
        "print(temperatura)\n"
      ],
      "metadata": {
        "id": "jZCGmYur2_PO"
      },
      "execution_count": null,
      "outputs": []
    },
    {
      "cell_type": "code",
      "source": [
        "# Modificando Dicionários\n",
        "\n",
        "aluno[\"curso\"] = \"Engenharia de Software\" # Modifica o valor da chave \"curso\"\n",
        "dados_sensor[\"luminosidade\"] = 400 # Adiciona uma nova chave-valor ao dicionário\n",
        "del aluno[\"idade\"] # Remove a chave \"idade\" do dicionário\n",
        "\n",
        "print(aluno)\n",
        "print(dados_sensor)\n"
      ],
      "metadata": {
        "id": "47HOd2wl3GBL"
      },
      "execution_count": null,
      "outputs": []
    },
    {
      "cell_type": "markdown",
      "source": [
        "### Exemplos"
      ],
      "metadata": {
        "id": "qUTZcaJC4Gyc"
      }
    },
    {
      "cell_type": "code",
      "source": [
        "# Exemplo do Uso de FOR e Listas em Python\n",
        "\n",
        "frutas = [\"banana\", \"maçã\", \"laranja\", \"uva\", \"morango\"]\n",
        "\n",
        "for fruta in frutas:\n",
        "    print(fruta)\n"
      ],
      "metadata": {
        "id": "Fu_fTV2l4JPs"
      },
      "execution_count": null,
      "outputs": []
    },
    {
      "cell_type": "code",
      "source": [
        "# Imprimir números pares\n",
        "\n",
        "for numero in range(2, 10, 2):\n",
        "    print(numero)\n"
      ],
      "metadata": {
        "id": "ZSjq7jou4Rsq"
      },
      "execution_count": null,
      "outputs": []
    },
    {
      "cell_type": "code",
      "source": [
        "# Exemplo de Dicionário em Python\n",
        "\n",
        "livro = {\n",
        "    \"titulo\": \"A grande virada de jogo\",\n",
        "    \"autor\": \"George McKnight\",\n",
        "    \"ano_publicacao\": 1995,\n",
        "    \"genero\": \"Ficção científica\",\n",
        "    \"numero_paginas\": 128\n",
        "}\n",
        "\n",
        "# Acessando o valor da chave \"titulo\"\n",
        "titulo = livro[\"titulo\"]\n",
        "\n",
        "# Imprimindo o dicionário\n",
        "print(livro)\n",
        "\n",
        "# Acessando o valor da chave \"ano_publicacao\"\n",
        "ano_publicacao = livro.get(\"ano_publicacao\")\n",
        "print(ano_publicacao)\n",
        "\n",
        "# Modificando o valor da chave \"genero\"\n",
        "livro[\"genero\"] = \"Distopia\"\n",
        "print(livro[\"genero\"])\n",
        "\n",
        "# Adicionando uma nova chave-valor ao dicionário\n",
        "livro[\"numero_edicao\"] = 10\n",
        "print(livro[\"numero_edicao\"])\n",
        "\n",
        "# Removendo a chave \"numero_paginas\" do dicionário\n",
        "del livro[\"numero_paginas\"]\n"
      ],
      "metadata": {
        "id": "yhuo8CvC4scn"
      },
      "execution_count": null,
      "outputs": []
    }
  ]
}